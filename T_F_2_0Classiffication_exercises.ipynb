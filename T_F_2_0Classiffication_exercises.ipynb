{
  "nbformat": 4,
  "nbformat_minor": 0,
  "metadata": {
    "colab": {
      "name": "T.F 2.0Classiffication exercises.ipynb",
      "provenance": [],
      "collapsed_sections": []
    },
    "kernelspec": {
      "name": "python3",
      "display_name": "Python 3"
    }
  },
  "cells": [
    {
      "cell_type": "code",
      "metadata": {
        "id": "DedMT_MJiHXg",
        "colab_type": "code",
        "colab": {}
      },
      "source": [
        "import tensorflow as tf\n",
        "from sklearn.datasets import load_breast_cancer\n",
        "from sklearn.model_selection import train_test_split\n",
        "from sklearn.preprocessing import StandardScaler\n",
        "import matplotlib.pyplot as plt\n",
        "import numpy as np"
      ],
      "execution_count": null,
      "outputs": []
    },
    {
      "cell_type": "code",
      "metadata": {
        "id": "f5S39B36iUSf",
        "colab_type": "code",
        "colab": {}
      },
      "source": [
        "data = load_breast_cancer()"
      ],
      "execution_count": null,
      "outputs": []
    },
    {
      "cell_type": "code",
      "metadata": {
        "id": "_qd5kbkbiUVG",
        "colab_type": "code",
        "colab": {
          "base_uri": "https://localhost:8080/",
          "height": 33
        },
        "outputId": "6e44fe9c-34ea-4401-fd0c-dc82e0d8cf4c"
      },
      "source": [
        "type(data)"
      ],
      "execution_count": null,
      "outputs": [
        {
          "output_type": "execute_result",
          "data": {
            "text/plain": [
              "sklearn.utils.Bunch"
            ]
          },
          "metadata": {
            "tags": []
          },
          "execution_count": 3
        }
      ]
    },
    {
      "cell_type": "code",
      "metadata": {
        "id": "WKrXJnT9iUXl",
        "colab_type": "code",
        "colab": {
          "base_uri": "https://localhost:8080/",
          "height": 33
        },
        "outputId": "28a06f7a-699e-433b-92b2-ae3d2e00a9a3"
      },
      "source": [
        "data.keys()"
      ],
      "execution_count": null,
      "outputs": [
        {
          "output_type": "execute_result",
          "data": {
            "text/plain": [
              "dict_keys(['data', 'target', 'target_names', 'DESCR', 'feature_names', 'filename'])"
            ]
          },
          "metadata": {
            "tags": []
          },
          "execution_count": 4
        }
      ]
    },
    {
      "cell_type": "code",
      "metadata": {
        "id": "epfL6zY0iUZ9",
        "colab_type": "code",
        "colab": {
          "base_uri": "https://localhost:8080/",
          "height": 33
        },
        "outputId": "52a5512c-d10e-4481-980a-2b10cbaee689"
      },
      "source": [
        "data[\"data\"].shape"
      ],
      "execution_count": null,
      "outputs": [
        {
          "output_type": "execute_result",
          "data": {
            "text/plain": [
              "(569, 30)"
            ]
          },
          "metadata": {
            "tags": []
          },
          "execution_count": 5
        }
      ]
    },
    {
      "cell_type": "code",
      "metadata": {
        "id": "oz2LdeNCiUcF",
        "colab_type": "code",
        "colab": {
          "base_uri": "https://localhost:8080/",
          "height": 33
        },
        "outputId": "b31410cd-729c-4f7c-a729-29db275ed3b9"
      },
      "source": [
        "data[\"target\"].shape"
      ],
      "execution_count": null,
      "outputs": [
        {
          "output_type": "execute_result",
          "data": {
            "text/plain": [
              "(569,)"
            ]
          },
          "metadata": {
            "tags": []
          },
          "execution_count": 6
        }
      ]
    },
    {
      "cell_type": "code",
      "metadata": {
        "id": "RzIDLDnmiUeE",
        "colab_type": "code",
        "colab": {
          "base_uri": "https://localhost:8080/",
          "height": 183
        },
        "outputId": "e4df8822-79b9-4b1d-fa16-3330314a4ef8"
      },
      "source": [
        "data.feature_names"
      ],
      "execution_count": null,
      "outputs": [
        {
          "output_type": "execute_result",
          "data": {
            "text/plain": [
              "array(['mean radius', 'mean texture', 'mean perimeter', 'mean area',\n",
              "       'mean smoothness', 'mean compactness', 'mean concavity',\n",
              "       'mean concave points', 'mean symmetry', 'mean fractal dimension',\n",
              "       'radius error', 'texture error', 'perimeter error', 'area error',\n",
              "       'smoothness error', 'compactness error', 'concavity error',\n",
              "       'concave points error', 'symmetry error',\n",
              "       'fractal dimension error', 'worst radius', 'worst texture',\n",
              "       'worst perimeter', 'worst area', 'worst smoothness',\n",
              "       'worst compactness', 'worst concavity', 'worst concave points',\n",
              "       'worst symmetry', 'worst fractal dimension'], dtype='<U23')"
            ]
          },
          "metadata": {
            "tags": []
          },
          "execution_count": 7
        }
      ]
    },
    {
      "cell_type": "code",
      "metadata": {
        "id": "vwamc1UtiUgN",
        "colab_type": "code",
        "colab": {}
      },
      "source": [
        "X_train, X_test, y_train, y_test = train_test_split(data[\"data\"], data[\"target\"], test_size=0.33)\n",
        "\n",
        "N, D = X_train.shape"
      ],
      "execution_count": null,
      "outputs": []
    },
    {
      "cell_type": "code",
      "metadata": {
        "id": "7JmrZ_cKjm0o",
        "colab_type": "code",
        "colab": {
          "base_uri": "https://localhost:8080/",
          "height": 50
        },
        "outputId": "775c66e7-fe4b-4741-a75e-f601f85ad25f"
      },
      "source": [
        "print(f\"N: {N}\")\n",
        "print(f\"D: {D}\")"
      ],
      "execution_count": null,
      "outputs": [
        {
          "output_type": "stream",
          "text": [
            "N: 381\n",
            "D: 30\n"
          ],
          "name": "stdout"
        }
      ]
    },
    {
      "cell_type": "code",
      "metadata": {
        "id": "58YrmmoJiUht",
        "colab_type": "code",
        "colab": {}
      },
      "source": [
        "scaler = StandardScaler()\n",
        "X_train = scaler.fit_transform(X_train)\n",
        "X_test = scaler.transform(X_test)"
      ],
      "execution_count": null,
      "outputs": []
    },
    {
      "cell_type": "code",
      "metadata": {
        "id": "YEjRGh7niUj9",
        "colab_type": "code",
        "colab": {}
      },
      "source": [
        "model = tf.keras.models.Sequential()\n",
        "model.add(tf.keras.layers.Dense(1, input_shape=(D,), activation=\"sigmoid\"))\n",
        "model.compile(loss=\"binary_crossentropy\", optimizer=\"adam\", metrics=[\"accuracy\"])"
      ],
      "execution_count": null,
      "outputs": []
    },
    {
      "cell_type": "code",
      "metadata": {
        "id": "0MlXz5l6iUl0",
        "colab_type": "code",
        "colab": {
          "base_uri": "https://localhost:8080/",
          "height": 1000
        },
        "outputId": "7cb84ce1-8e04-4b89-e0b0-e1c2d427f39c"
      },
      "source": [
        "r = model.fit(X_train, y_train, validation_data=(X_test, y_test), epochs=100)"
      ],
      "execution_count": null,
      "outputs": [
        {
          "output_type": "stream",
          "text": [
            "Epoch 1/100\n",
            "12/12 [==============================] - 0s 12ms/step - loss: 0.4678 - accuracy: 0.8031 - val_loss: 0.5242 - val_accuracy: 0.7872\n",
            "Epoch 2/100\n",
            "12/12 [==============================] - 0s 3ms/step - loss: 0.4344 - accuracy: 0.8294 - val_loss: 0.4870 - val_accuracy: 0.7979\n",
            "Epoch 3/100\n",
            "12/12 [==============================] - 0s 2ms/step - loss: 0.4046 - accuracy: 0.8399 - val_loss: 0.4549 - val_accuracy: 0.8138\n",
            "Epoch 4/100\n",
            "12/12 [==============================] - 0s 3ms/step - loss: 0.3786 - accuracy: 0.8583 - val_loss: 0.4260 - val_accuracy: 0.8138\n",
            "Epoch 5/100\n",
            "12/12 [==============================] - 0s 3ms/step - loss: 0.3559 - accuracy: 0.8688 - val_loss: 0.3993 - val_accuracy: 0.8511\n",
            "Epoch 6/100\n",
            "12/12 [==============================] - 0s 2ms/step - loss: 0.3354 - accuracy: 0.8819 - val_loss: 0.3769 - val_accuracy: 0.8617\n",
            "Epoch 7/100\n",
            "12/12 [==============================] - 0s 2ms/step - loss: 0.3178 - accuracy: 0.8845 - val_loss: 0.3555 - val_accuracy: 0.8670\n",
            "Epoch 8/100\n",
            "12/12 [==============================] - 0s 2ms/step - loss: 0.3022 - accuracy: 0.8924 - val_loss: 0.3357 - val_accuracy: 0.8670\n",
            "Epoch 9/100\n",
            "12/12 [==============================] - 0s 2ms/step - loss: 0.2874 - accuracy: 0.9003 - val_loss: 0.3192 - val_accuracy: 0.8777\n",
            "Epoch 10/100\n",
            "12/12 [==============================] - 0s 2ms/step - loss: 0.2748 - accuracy: 0.9029 - val_loss: 0.3035 - val_accuracy: 0.8883\n",
            "Epoch 11/100\n",
            "12/12 [==============================] - 0s 2ms/step - loss: 0.2631 - accuracy: 0.9160 - val_loss: 0.2887 - val_accuracy: 0.8883\n",
            "Epoch 12/100\n",
            "12/12 [==============================] - 0s 2ms/step - loss: 0.2527 - accuracy: 0.9186 - val_loss: 0.2753 - val_accuracy: 0.8883\n",
            "Epoch 13/100\n",
            "12/12 [==============================] - 0s 3ms/step - loss: 0.2427 - accuracy: 0.9186 - val_loss: 0.2636 - val_accuracy: 0.8883\n",
            "Epoch 14/100\n",
            "12/12 [==============================] - 0s 3ms/step - loss: 0.2344 - accuracy: 0.9213 - val_loss: 0.2518 - val_accuracy: 0.8883\n",
            "Epoch 15/100\n",
            "12/12 [==============================] - 0s 2ms/step - loss: 0.2259 - accuracy: 0.9239 - val_loss: 0.2420 - val_accuracy: 0.8936\n",
            "Epoch 16/100\n",
            "12/12 [==============================] - 0s 2ms/step - loss: 0.2188 - accuracy: 0.9239 - val_loss: 0.2323 - val_accuracy: 0.8989\n",
            "Epoch 17/100\n",
            "12/12 [==============================] - 0s 2ms/step - loss: 0.2119 - accuracy: 0.9239 - val_loss: 0.2233 - val_accuracy: 0.9149\n",
            "Epoch 18/100\n",
            "12/12 [==============================] - 0s 2ms/step - loss: 0.2055 - accuracy: 0.9265 - val_loss: 0.2154 - val_accuracy: 0.9202\n",
            "Epoch 19/100\n",
            "12/12 [==============================] - 0s 2ms/step - loss: 0.1997 - accuracy: 0.9318 - val_loss: 0.2078 - val_accuracy: 0.9255\n",
            "Epoch 20/100\n",
            "12/12 [==============================] - 0s 2ms/step - loss: 0.1944 - accuracy: 0.9291 - val_loss: 0.2010 - val_accuracy: 0.9255\n",
            "Epoch 21/100\n",
            "12/12 [==============================] - 0s 2ms/step - loss: 0.1894 - accuracy: 0.9318 - val_loss: 0.1944 - val_accuracy: 0.9255\n",
            "Epoch 22/100\n",
            "12/12 [==============================] - 0s 2ms/step - loss: 0.1847 - accuracy: 0.9344 - val_loss: 0.1883 - val_accuracy: 0.9309\n",
            "Epoch 23/100\n",
            "12/12 [==============================] - 0s 3ms/step - loss: 0.1804 - accuracy: 0.9344 - val_loss: 0.1826 - val_accuracy: 0.9309\n",
            "Epoch 24/100\n",
            "12/12 [==============================] - 0s 2ms/step - loss: 0.1764 - accuracy: 0.9344 - val_loss: 0.1775 - val_accuracy: 0.9309\n",
            "Epoch 25/100\n",
            "12/12 [==============================] - 0s 3ms/step - loss: 0.1726 - accuracy: 0.9344 - val_loss: 0.1728 - val_accuracy: 0.9309\n",
            "Epoch 26/100\n",
            "12/12 [==============================] - 0s 3ms/step - loss: 0.1690 - accuracy: 0.9344 - val_loss: 0.1683 - val_accuracy: 0.9362\n",
            "Epoch 27/100\n",
            "12/12 [==============================] - 0s 2ms/step - loss: 0.1657 - accuracy: 0.9370 - val_loss: 0.1640 - val_accuracy: 0.9362\n",
            "Epoch 28/100\n",
            "12/12 [==============================] - 0s 2ms/step - loss: 0.1625 - accuracy: 0.9396 - val_loss: 0.1602 - val_accuracy: 0.9362\n",
            "Epoch 29/100\n",
            "12/12 [==============================] - 0s 2ms/step - loss: 0.1596 - accuracy: 0.9423 - val_loss: 0.1565 - val_accuracy: 0.9362\n",
            "Epoch 30/100\n",
            "12/12 [==============================] - 0s 2ms/step - loss: 0.1568 - accuracy: 0.9423 - val_loss: 0.1532 - val_accuracy: 0.9415\n",
            "Epoch 31/100\n",
            "12/12 [==============================] - 0s 2ms/step - loss: 0.1541 - accuracy: 0.9423 - val_loss: 0.1497 - val_accuracy: 0.9468\n",
            "Epoch 32/100\n",
            "12/12 [==============================] - 0s 3ms/step - loss: 0.1516 - accuracy: 0.9423 - val_loss: 0.1464 - val_accuracy: 0.9468\n",
            "Epoch 33/100\n",
            "12/12 [==============================] - 0s 2ms/step - loss: 0.1493 - accuracy: 0.9423 - val_loss: 0.1434 - val_accuracy: 0.9468\n",
            "Epoch 34/100\n",
            "12/12 [==============================] - 0s 2ms/step - loss: 0.1469 - accuracy: 0.9423 - val_loss: 0.1409 - val_accuracy: 0.9468\n",
            "Epoch 35/100\n",
            "12/12 [==============================] - 0s 2ms/step - loss: 0.1448 - accuracy: 0.9475 - val_loss: 0.1384 - val_accuracy: 0.9468\n",
            "Epoch 36/100\n",
            "12/12 [==============================] - 0s 2ms/step - loss: 0.1427 - accuracy: 0.9475 - val_loss: 0.1358 - val_accuracy: 0.9468\n",
            "Epoch 37/100\n",
            "12/12 [==============================] - 0s 2ms/step - loss: 0.1408 - accuracy: 0.9528 - val_loss: 0.1336 - val_accuracy: 0.9468\n",
            "Epoch 38/100\n",
            "12/12 [==============================] - 0s 2ms/step - loss: 0.1389 - accuracy: 0.9528 - val_loss: 0.1313 - val_accuracy: 0.9468\n",
            "Epoch 39/100\n",
            "12/12 [==============================] - 0s 2ms/step - loss: 0.1371 - accuracy: 0.9528 - val_loss: 0.1292 - val_accuracy: 0.9468\n",
            "Epoch 40/100\n",
            "12/12 [==============================] - 0s 3ms/step - loss: 0.1354 - accuracy: 0.9528 - val_loss: 0.1272 - val_accuracy: 0.9468\n",
            "Epoch 41/100\n",
            "12/12 [==============================] - 0s 2ms/step - loss: 0.1338 - accuracy: 0.9528 - val_loss: 0.1254 - val_accuracy: 0.9468\n",
            "Epoch 42/100\n",
            "12/12 [==============================] - 0s 2ms/step - loss: 0.1322 - accuracy: 0.9528 - val_loss: 0.1238 - val_accuracy: 0.9468\n",
            "Epoch 43/100\n",
            "12/12 [==============================] - 0s 2ms/step - loss: 0.1308 - accuracy: 0.9528 - val_loss: 0.1218 - val_accuracy: 0.9521\n",
            "Epoch 44/100\n",
            "12/12 [==============================] - 0s 2ms/step - loss: 0.1293 - accuracy: 0.9528 - val_loss: 0.1201 - val_accuracy: 0.9574\n",
            "Epoch 45/100\n",
            "12/12 [==============================] - 0s 2ms/step - loss: 0.1279 - accuracy: 0.9528 - val_loss: 0.1186 - val_accuracy: 0.9628\n",
            "Epoch 46/100\n",
            "12/12 [==============================] - 0s 2ms/step - loss: 0.1266 - accuracy: 0.9528 - val_loss: 0.1169 - val_accuracy: 0.9628\n",
            "Epoch 47/100\n",
            "12/12 [==============================] - 0s 3ms/step - loss: 0.1252 - accuracy: 0.9528 - val_loss: 0.1154 - val_accuracy: 0.9628\n",
            "Epoch 48/100\n",
            "12/12 [==============================] - 0s 3ms/step - loss: 0.1240 - accuracy: 0.9528 - val_loss: 0.1141 - val_accuracy: 0.9628\n",
            "Epoch 49/100\n",
            "12/12 [==============================] - 0s 2ms/step - loss: 0.1229 - accuracy: 0.9528 - val_loss: 0.1127 - val_accuracy: 0.9628\n",
            "Epoch 50/100\n",
            "12/12 [==============================] - 0s 2ms/step - loss: 0.1218 - accuracy: 0.9528 - val_loss: 0.1114 - val_accuracy: 0.9628\n",
            "Epoch 51/100\n",
            "12/12 [==============================] - 0s 2ms/step - loss: 0.1206 - accuracy: 0.9554 - val_loss: 0.1102 - val_accuracy: 0.9628\n",
            "Epoch 52/100\n",
            "12/12 [==============================] - 0s 3ms/step - loss: 0.1195 - accuracy: 0.9554 - val_loss: 0.1091 - val_accuracy: 0.9628\n",
            "Epoch 53/100\n",
            "12/12 [==============================] - 0s 2ms/step - loss: 0.1185 - accuracy: 0.9580 - val_loss: 0.1079 - val_accuracy: 0.9628\n",
            "Epoch 54/100\n",
            "12/12 [==============================] - 0s 2ms/step - loss: 0.1175 - accuracy: 0.9580 - val_loss: 0.1067 - val_accuracy: 0.9681\n",
            "Epoch 55/100\n",
            "12/12 [==============================] - 0s 2ms/step - loss: 0.1165 - accuracy: 0.9580 - val_loss: 0.1057 - val_accuracy: 0.9681\n",
            "Epoch 56/100\n",
            "12/12 [==============================] - 0s 2ms/step - loss: 0.1156 - accuracy: 0.9580 - val_loss: 0.1046 - val_accuracy: 0.9734\n",
            "Epoch 57/100\n",
            "12/12 [==============================] - 0s 2ms/step - loss: 0.1147 - accuracy: 0.9580 - val_loss: 0.1036 - val_accuracy: 0.9734\n",
            "Epoch 58/100\n",
            "12/12 [==============================] - 0s 2ms/step - loss: 0.1138 - accuracy: 0.9580 - val_loss: 0.1025 - val_accuracy: 0.9734\n",
            "Epoch 59/100\n",
            "12/12 [==============================] - 0s 2ms/step - loss: 0.1130 - accuracy: 0.9606 - val_loss: 0.1016 - val_accuracy: 0.9734\n",
            "Epoch 60/100\n",
            "12/12 [==============================] - 0s 2ms/step - loss: 0.1121 - accuracy: 0.9606 - val_loss: 0.1008 - val_accuracy: 0.9734\n",
            "Epoch 61/100\n",
            "12/12 [==============================] - 0s 2ms/step - loss: 0.1114 - accuracy: 0.9633 - val_loss: 0.0997 - val_accuracy: 0.9734\n",
            "Epoch 62/100\n",
            "12/12 [==============================] - 0s 3ms/step - loss: 0.1106 - accuracy: 0.9633 - val_loss: 0.0988 - val_accuracy: 0.9734\n",
            "Epoch 63/100\n",
            "12/12 [==============================] - 0s 2ms/step - loss: 0.1098 - accuracy: 0.9633 - val_loss: 0.0980 - val_accuracy: 0.9734\n",
            "Epoch 64/100\n",
            "12/12 [==============================] - 0s 2ms/step - loss: 0.1091 - accuracy: 0.9633 - val_loss: 0.0972 - val_accuracy: 0.9734\n",
            "Epoch 65/100\n",
            "12/12 [==============================] - 0s 2ms/step - loss: 0.1083 - accuracy: 0.9633 - val_loss: 0.0964 - val_accuracy: 0.9734\n",
            "Epoch 66/100\n",
            "12/12 [==============================] - 0s 2ms/step - loss: 0.1076 - accuracy: 0.9633 - val_loss: 0.0956 - val_accuracy: 0.9734\n",
            "Epoch 67/100\n",
            "12/12 [==============================] - 0s 2ms/step - loss: 0.1070 - accuracy: 0.9633 - val_loss: 0.0948 - val_accuracy: 0.9734\n",
            "Epoch 68/100\n",
            "12/12 [==============================] - 0s 2ms/step - loss: 0.1064 - accuracy: 0.9633 - val_loss: 0.0940 - val_accuracy: 0.9734\n",
            "Epoch 69/100\n",
            "12/12 [==============================] - 0s 2ms/step - loss: 0.1057 - accuracy: 0.9659 - val_loss: 0.0933 - val_accuracy: 0.9734\n",
            "Epoch 70/100\n",
            "12/12 [==============================] - 0s 2ms/step - loss: 0.1050 - accuracy: 0.9659 - val_loss: 0.0926 - val_accuracy: 0.9734\n",
            "Epoch 71/100\n",
            "12/12 [==============================] - 0s 2ms/step - loss: 0.1044 - accuracy: 0.9659 - val_loss: 0.0920 - val_accuracy: 0.9734\n",
            "Epoch 72/100\n",
            "12/12 [==============================] - 0s 2ms/step - loss: 0.1039 - accuracy: 0.9659 - val_loss: 0.0912 - val_accuracy: 0.9734\n",
            "Epoch 73/100\n",
            "12/12 [==============================] - 0s 2ms/step - loss: 0.1033 - accuracy: 0.9659 - val_loss: 0.0906 - val_accuracy: 0.9734\n",
            "Epoch 74/100\n",
            "12/12 [==============================] - 0s 2ms/step - loss: 0.1027 - accuracy: 0.9659 - val_loss: 0.0900 - val_accuracy: 0.9734\n",
            "Epoch 75/100\n",
            "12/12 [==============================] - 0s 2ms/step - loss: 0.1022 - accuracy: 0.9659 - val_loss: 0.0893 - val_accuracy: 0.9734\n",
            "Epoch 76/100\n",
            "12/12 [==============================] - 0s 2ms/step - loss: 0.1016 - accuracy: 0.9685 - val_loss: 0.0886 - val_accuracy: 0.9734\n",
            "Epoch 77/100\n",
            "12/12 [==============================] - 0s 2ms/step - loss: 0.1011 - accuracy: 0.9685 - val_loss: 0.0881 - val_accuracy: 0.9734\n",
            "Epoch 78/100\n",
            "12/12 [==============================] - 0s 2ms/step - loss: 0.1006 - accuracy: 0.9685 - val_loss: 0.0875 - val_accuracy: 0.9734\n",
            "Epoch 79/100\n",
            "12/12 [==============================] - 0s 2ms/step - loss: 0.1001 - accuracy: 0.9685 - val_loss: 0.0868 - val_accuracy: 0.9734\n",
            "Epoch 80/100\n",
            "12/12 [==============================] - 0s 3ms/step - loss: 0.0996 - accuracy: 0.9659 - val_loss: 0.0862 - val_accuracy: 0.9734\n",
            "Epoch 81/100\n",
            "12/12 [==============================] - 0s 2ms/step - loss: 0.0991 - accuracy: 0.9685 - val_loss: 0.0857 - val_accuracy: 0.9734\n",
            "Epoch 82/100\n",
            "12/12 [==============================] - 0s 3ms/step - loss: 0.0986 - accuracy: 0.9711 - val_loss: 0.0851 - val_accuracy: 0.9734\n",
            "Epoch 83/100\n",
            "12/12 [==============================] - 0s 3ms/step - loss: 0.0982 - accuracy: 0.9711 - val_loss: 0.0846 - val_accuracy: 0.9734\n",
            "Epoch 84/100\n",
            "12/12 [==============================] - 0s 2ms/step - loss: 0.0978 - accuracy: 0.9711 - val_loss: 0.0842 - val_accuracy: 0.9734\n",
            "Epoch 85/100\n",
            "12/12 [==============================] - 0s 3ms/step - loss: 0.0973 - accuracy: 0.9711 - val_loss: 0.0836 - val_accuracy: 0.9734\n",
            "Epoch 86/100\n",
            "12/12 [==============================] - 0s 3ms/step - loss: 0.0968 - accuracy: 0.9711 - val_loss: 0.0831 - val_accuracy: 0.9734\n",
            "Epoch 87/100\n",
            "12/12 [==============================] - 0s 2ms/step - loss: 0.0964 - accuracy: 0.9711 - val_loss: 0.0826 - val_accuracy: 0.9734\n",
            "Epoch 88/100\n",
            "12/12 [==============================] - 0s 2ms/step - loss: 0.0961 - accuracy: 0.9711 - val_loss: 0.0822 - val_accuracy: 0.9734\n",
            "Epoch 89/100\n",
            "12/12 [==============================] - 0s 3ms/step - loss: 0.0956 - accuracy: 0.9711 - val_loss: 0.0816 - val_accuracy: 0.9787\n",
            "Epoch 90/100\n",
            "12/12 [==============================] - 0s 2ms/step - loss: 0.0952 - accuracy: 0.9711 - val_loss: 0.0812 - val_accuracy: 0.9787\n",
            "Epoch 91/100\n",
            "12/12 [==============================] - 0s 3ms/step - loss: 0.0949 - accuracy: 0.9711 - val_loss: 0.0807 - val_accuracy: 0.9787\n",
            "Epoch 92/100\n",
            "12/12 [==============================] - 0s 3ms/step - loss: 0.0944 - accuracy: 0.9711 - val_loss: 0.0802 - val_accuracy: 0.9787\n",
            "Epoch 93/100\n",
            "12/12 [==============================] - 0s 3ms/step - loss: 0.0941 - accuracy: 0.9711 - val_loss: 0.0798 - val_accuracy: 0.9787\n",
            "Epoch 94/100\n",
            "12/12 [==============================] - 0s 2ms/step - loss: 0.0937 - accuracy: 0.9711 - val_loss: 0.0793 - val_accuracy: 0.9787\n",
            "Epoch 95/100\n",
            "12/12 [==============================] - 0s 2ms/step - loss: 0.0934 - accuracy: 0.9711 - val_loss: 0.0788 - val_accuracy: 0.9787\n",
            "Epoch 96/100\n",
            "12/12 [==============================] - 0s 2ms/step - loss: 0.0930 - accuracy: 0.9711 - val_loss: 0.0784 - val_accuracy: 0.9787\n",
            "Epoch 97/100\n",
            "12/12 [==============================] - 0s 2ms/step - loss: 0.0926 - accuracy: 0.9711 - val_loss: 0.0780 - val_accuracy: 0.9787\n",
            "Epoch 98/100\n",
            "12/12 [==============================] - 0s 2ms/step - loss: 0.0923 - accuracy: 0.9711 - val_loss: 0.0776 - val_accuracy: 0.9787\n",
            "Epoch 99/100\n",
            "12/12 [==============================] - 0s 3ms/step - loss: 0.0920 - accuracy: 0.9711 - val_loss: 0.0773 - val_accuracy: 0.9787\n",
            "Epoch 100/100\n",
            "12/12 [==============================] - 0s 2ms/step - loss: 0.0916 - accuracy: 0.9711 - val_loss: 0.0768 - val_accuracy: 0.9787\n"
          ],
          "name": "stdout"
        }
      ]
    },
    {
      "cell_type": "code",
      "metadata": {
        "id": "JcshxHymiUn2",
        "colab_type": "code",
        "colab": {
          "base_uri": "https://localhost:8080/",
          "height": 282
        },
        "outputId": "7be86519-babe-49b1-e46c-6ba4a935cccb"
      },
      "source": [
        "plt.plot(r.history[\"accuracy\"], label=\"accuracy\")\n",
        "plt.plot(r.history[\"val_accuracy\"], label=\"val_accuracy\")\n",
        "plt.legend()"
      ],
      "execution_count": null,
      "outputs": [
        {
          "output_type": "execute_result",
          "data": {
            "text/plain": [
              "<matplotlib.legend.Legend at 0x7f5074f32940>"
            ]
          },
          "metadata": {
            "tags": []
          },
          "execution_count": 22
        },
        {
          "output_type": "display_data",
          "data": {
            "image/png": "[encoded data removed]",
            "text/plain": [
              "<Figure size 432x288 with 1 Axes>"
            ]
          },
          "metadata": {
            "tags": [],
            "needs_background": "light"
          }
        }
      ]
    },
    {
      "cell_type": "code",
      "metadata": {
        "id": "gLG59iIoiUpV",
        "colab_type": "code",
        "colab": {
          "base_uri": "https://localhost:8080/",
          "height": 282
        },
        "outputId": "f3c308b1-329c-46db-9524-ba0b5045f9e9"
      },
      "source": [
        "plt.plot(r.history[\"loss\"], label=\"loss\")\n",
        "plt.plot(r.history[\"val_loss\"], label=\"val_accuracy\")\n",
        "plt.legend()"
      ],
      "execution_count": null,
      "outputs": [
        {
          "output_type": "execute_result",
          "data": {
            "text/plain": [
              "<matplotlib.legend.Legend at 0x7f50746966a0>"
            ]
          },
          "metadata": {
            "tags": []
          },
          "execution_count": 23
        },
        {
          "output_type": "display_data",
          "data": {
            "image/png": "[encoded data removed]",
            "text/plain": [
              "<Figure size 432x288 with 1 Axes>"
            ]
          },
          "metadata": {
            "tags": [],
            "needs_background": "light"
          }
        }
      ]
    },
    {
      "cell_type": "code",
      "metadata": {
        "id": "aLDV3SgviUr1",
        "colab_type": "code",
        "colab": {
          "base_uri": "https://localhost:8080/",
          "height": 1000
        },
        "outputId": "721b4197-091a-4602-ed96-b309b680a11f"
      },
      "source": [
        "P = model.predict(X_test)\n",
        "P"
      ],
      "execution_count": null,
      "outputs": [
        {
          "output_type": "execute_result",
          "data": {
            "text/plain": [
              "array([[9.88981843e-01],\n",
              "       [3.92375529e-01],\n",
              "       [2.07692385e-04],\n",
              "       [9.99298573e-01],\n",
              "       [9.96239901e-01],\n",
              "       [9.99501944e-01],\n",
              "       [9.57776904e-01],\n",
              "       [2.11284187e-05],\n",
              "       [9.77273643e-01],\n",
              "       [9.39224958e-01],\n",
              "       [9.98738289e-01],\n",
              "       [9.52913582e-01],\n",
              "       [3.40078413e-01],\n",
              "       [9.20439005e-01],\n",
              "       [8.96116436e-01],\n",
              "       [7.77853072e-01],\n",
              "       [8.86073709e-03],\n",
              "       [7.68764138e-01],\n",
              "       [1.27115101e-07],\n",
              "       [9.98923302e-01],\n",
              "       [8.52778077e-01],\n",
              "       [9.95530844e-01],\n",
              "       [2.12997198e-04],\n",
              "       [9.99884844e-01],\n",
              "       [2.27523287e-06],\n",
              "       [4.20453846e-02],\n",
              "       [9.94604230e-01],\n",
              "       [9.01911259e-01],\n",
              "       [9.60807800e-01],\n",
              "       [2.88307667e-04],\n",
              "       [9.90256131e-01],\n",
              "       [9.82297063e-01],\n",
              "       [1.38557925e-06],\n",
              "       [6.31111334e-07],\n",
              "       [9.94077981e-01],\n",
              "       [9.97637808e-01],\n",
              "       [4.10549073e-05],\n",
              "       [9.03426766e-01],\n",
              "       [9.88356829e-01],\n",
              "       [6.69591827e-07],\n",
              "       [9.99248028e-01],\n",
              "       [9.88572299e-01],\n",
              "       [9.64599133e-01],\n",
              "       [6.20323420e-03],\n",
              "       [6.02810578e-05],\n",
              "       [9.93075609e-01],\n",
              "       [9.99443889e-01],\n",
              "       [1.37564540e-03],\n",
              "       [8.25899303e-01],\n",
              "       [9.24774170e-01],\n",
              "       [9.75424767e-01],\n",
              "       [9.24419761e-01],\n",
              "       [9.98059392e-01],\n",
              "       [9.22531664e-01],\n",
              "       [7.08816003e-07],\n",
              "       [9.19127584e-01],\n",
              "       [9.81174409e-01],\n",
              "       [5.50922096e-01],\n",
              "       [9.95919943e-01],\n",
              "       [9.91770744e-01],\n",
              "       [9.93471324e-01],\n",
              "       [9.98572469e-01],\n",
              "       [9.97626781e-01],\n",
              "       [9.90456402e-01],\n",
              "       [3.78300846e-01],\n",
              "       [4.40019369e-03],\n",
              "       [9.92703915e-01],\n",
              "       [9.81216550e-01],\n",
              "       [9.99121308e-01],\n",
              "       [9.91390347e-01],\n",
              "       [4.26624238e-01],\n",
              "       [9.50241804e-01],\n",
              "       [1.46569539e-06],\n",
              "       [9.90889668e-01],\n",
              "       [8.09814334e-01],\n",
              "       [4.74065870e-01],\n",
              "       [9.92490053e-01],\n",
              "       [9.93647337e-01],\n",
              "       [9.57501531e-01],\n",
              "       [1.88017786e-02],\n",
              "       [5.67756891e-02],\n",
              "       [8.55405331e-02],\n",
              "       [9.99065816e-01],\n",
              "       [4.79813546e-01],\n",
              "       [9.94700789e-01],\n",
              "       [9.98712778e-01],\n",
              "       [9.90373909e-01],\n",
              "       [9.88540530e-01],\n",
              "       [2.19312310e-03],\n",
              "       [9.41981077e-01],\n",
              "       [9.79736805e-01],\n",
              "       [9.61853743e-01],\n",
              "       [6.60908520e-02],\n",
              "       [9.86197114e-01],\n",
              "       [9.92975056e-01],\n",
              "       [9.93823886e-01],\n",
              "       [9.37423229e-01],\n",
              "       [4.85197604e-02],\n",
              "       [7.84053862e-01],\n",
              "       [9.95461345e-01],\n",
              "       [1.51827931e-03],\n",
              "       [9.88778114e-01],\n",
              "       [9.99827862e-01],\n",
              "       [5.62623354e-05],\n",
              "       [9.20359969e-01],\n",
              "       [9.74194884e-01],\n",
              "       [9.88649845e-01],\n",
              "       [9.92281437e-01],\n",
              "       [9.99584973e-01],\n",
              "       [3.01422087e-09],\n",
              "       [5.80120087e-02],\n",
              "       [5.05030334e-01],\n",
              "       [9.97717375e-09],\n",
              "       [9.79385138e-01],\n",
              "       [9.90250587e-01],\n",
              "       [3.16277146e-03],\n",
              "       [3.51501703e-01],\n",
              "       [3.01909447e-03],\n",
              "       [4.69765837e-05],\n",
              "       [2.71916389e-04],\n",
              "       [1.21791571e-01],\n",
              "       [9.97148693e-01],\n",
              "       [9.95512128e-01],\n",
              "       [8.63614798e-01],\n",
              "       [9.02465105e-01],\n",
              "       [9.92087066e-01],\n",
              "       [1.43791229e-01],\n",
              "       [6.55583262e-01],\n",
              "       [9.91754532e-01],\n",
              "       [9.87926960e-01],\n",
              "       [9.94514763e-01],\n",
              "       [9.94395971e-01],\n",
              "       [9.89536226e-01],\n",
              "       [9.79772449e-01],\n",
              "       [9.69692349e-01],\n",
              "       [9.67829943e-01],\n",
              "       [9.99287009e-01],\n",
              "       [9.56597030e-01],\n",
              "       [9.97983217e-01],\n",
              "       [8.81537795e-01],\n",
              "       [1.66643520e-06],\n",
              "       [7.92027495e-05],\n",
              "       [2.51623988e-03],\n",
              "       [2.82169458e-05],\n",
              "       [1.54718459e-02],\n",
              "       [1.60376817e-01],\n",
              "       [3.99917364e-04],\n",
              "       [9.87224221e-01],\n",
              "       [1.00318020e-05],\n",
              "       [9.83579516e-01],\n",
              "       [4.87706065e-03],\n",
              "       [3.55716348e-02],\n",
              "       [9.99504209e-01],\n",
              "       [9.21703517e-01],\n",
              "       [9.92110968e-01],\n",
              "       [8.77468109e-01],\n",
              "       [3.54473770e-01],\n",
              "       [9.99961615e-01],\n",
              "       [2.33760476e-03],\n",
              "       [9.87373829e-01],\n",
              "       [9.88566697e-01],\n",
              "       [9.96429443e-01],\n",
              "       [9.99632239e-01],\n",
              "       [9.98121619e-01],\n",
              "       [9.02062237e-01],\n",
              "       [9.99591589e-01],\n",
              "       [4.20060784e-01],\n",
              "       [1.30882045e-05],\n",
              "       [8.94729853e-01],\n",
              "       [9.70566988e-01],\n",
              "       [9.58428383e-01],\n",
              "       [9.38024759e-01],\n",
              "       [1.95098471e-09],\n",
              "       [1.11553585e-04],\n",
              "       [9.99496579e-01],\n",
              "       [2.30427650e-05],\n",
              "       [9.92374659e-01],\n",
              "       [8.89220834e-03],\n",
              "       [9.87184525e-01],\n",
              "       [2.04738975e-03],\n",
              "       [9.98830199e-01],\n",
              "       [9.88863111e-01],\n",
              "       [9.99517441e-01],\n",
              "       [9.84838128e-01],\n",
              "       [3.96251678e-04],\n",
              "       [5.38143814e-02],\n",
              "       [9.76971984e-01],\n",
              "       [9.97376323e-01]], dtype=float32)"
            ]
          },
          "metadata": {
            "tags": []
          },
          "execution_count": 43
        }
      ]
    },
    {
      "cell_type": "code",
      "metadata": {
        "id": "zuiIsjafiUt1",
        "colab_type": "code",
        "colab": {}
      },
      "source": [
        "P = np.round(P)"
      ],
      "execution_count": null,
      "outputs": []
    },
    {
      "cell_type": "code",
      "metadata": {
        "id": "FcZFRvi2iUv_",
        "colab_type": "code",
        "colab": {
          "base_uri": "https://localhost:8080/",
          "height": 33
        },
        "outputId": "0112d4e5-ffbc-4761-8d17-262368d39d17"
      },
      "source": [
        "P.shape"
      ],
      "execution_count": null,
      "outputs": [
        {
          "output_type": "execute_result",
          "data": {
            "text/plain": [
              "(188, 1)"
            ]
          },
          "metadata": {
            "tags": []
          },
          "execution_count": 46
        }
      ]
    },
    {
      "cell_type": "code",
      "metadata": {
        "id": "mntW2ot9iUyL",
        "colab_type": "code",
        "colab": {}
      },
      "source": [
        "P = P.flatten()"
      ],
      "execution_count": null,
      "outputs": []
    },
    {
      "cell_type": "code",
      "metadata": {
        "id": "GWx0WHlCoSZp",
        "colab_type": "code",
        "colab": {
          "base_uri": "https://localhost:8080/",
          "height": 33
        },
        "outputId": "13fd13c7-72a9-4797-c682-bab271613d10"
      },
      "source": [
        "P.shape"
      ],
      "execution_count": null,
      "outputs": [
        {
          "output_type": "execute_result",
          "data": {
            "text/plain": [
              "(188,)"
            ]
          },
          "metadata": {
            "tags": []
          },
          "execution_count": 49
        }
      ]
    },
    {
      "cell_type": "code",
      "metadata": {
        "id": "7ukLZZ1noScG",
        "colab_type": "code",
        "colab": {
          "base_uri": "https://localhost:8080/",
          "height": 50
        },
        "outputId": "d118cf9c-46a1-41fa-d04c-50d26f8ea257"
      },
      "source": [
        "np.mean(y_test == P)\n",
        "model.evaluate(X_test, y_test)"
      ],
      "execution_count": null,
      "outputs": [
        {
          "output_type": "stream",
          "text": [
            "6/6 [==============================] - 0s 1ms/step - loss: 0.0768 - accuracy: 0.9787\n"
          ],
          "name": "stdout"
        },
        {
          "output_type": "execute_result",
          "data": {
            "text/plain": [
              "[0.07684741914272308, 0.978723406791687]"
            ]
          },
          "metadata": {
            "tags": []
          },
          "execution_count": 52
        }
      ]
    }
  ]
}